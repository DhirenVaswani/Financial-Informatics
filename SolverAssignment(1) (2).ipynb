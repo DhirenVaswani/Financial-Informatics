{
 "cells": [
  {
   "cell_type": "code",
   "execution_count": 1,
   "metadata": {},
   "outputs": [],
   "source": [
    "# imports\n",
    "import numpy as np\n",
    "from scipy import optimize\n",
    "import matplotlib.pyplot as plt"
   ]
  },
  {
   "cell_type": "code",
   "execution_count": 2,
   "metadata": {},
   "outputs": [],
   "source": [
    "# Terms of five bonds are given below\n",
    "years = [1, 3, 5, 7, 10] # number of years\n",
    "coupons = [4.125, 4.75, 6.125, 6.375, 6.5]  # in percent\n",
    "prices = [103, 105.5, 112.75, 117, 121]\n",
    "# all bonds are semi annual coupon paying bonds with notional of 100.0"
   ]
  },
  {
   "cell_type": "markdown",
   "metadata": {},
   "source": [
    "### Steps\n",
    "* Write a Bond class that takes coupon, frequency, maturity, notional to construct a bond.\n",
    "* Generate bond Cashflows\n",
    "* This class should have function to calculate PV given an interest rate\n",
    "* Write another class with objective function\n",
    "* Run Bisection, Secant and Newton solver, Plot error function.\n",
    "* calculate YTM for the above bonds using solvers you have implemented. Make sure YTM is form each of the methods matches.\n"
   ]
  },
  {
   "cell_type": "markdown",
   "metadata": {},
   "source": [
    "### Hints\n",
    "* Remember Bond cash flow for semi annual bond per period is 1/2 of coupon * notional and last payment also has additional notional.\n",
    "* PV of a bond is sum of presnt value of each cashflow."
   ]
  },
  {
   "cell_type": "code",
   "execution_count": null,
   "metadata": {},
   "outputs": [],
   "source": []
  }
 ],
 "metadata": {
  "kernelspec": {
   "display_name": "Python 3",
   "language": "python",
   "name": "python3"
  },
  "language_info": {
   "codemirror_mode": {
    "name": "ipython",
    "version": 3
   },
   "file_extension": ".py",
   "mimetype": "text/x-python",
   "name": "python",
   "nbconvert_exporter": "python",
   "pygments_lexer": "ipython3",
   "version": "3.6.4"
  }
 },
 "nbformat": 4,
 "nbformat_minor": 2
}
