{
 "cells": [
  {
   "cell_type": "markdown",
   "metadata": {},
   "source": [
    "### Spread Option Pricer\n",
    "#### An option that expresses a view on spread between two stocks, if one stock is expected to out perform another stock, regardless of direction of overall market \n",
    "* Write a Spread option class that takes following parameters\n",
    "    * underlying names (Name1, Name2), price multiplier for the two stocks (M1, M2), spread strike (K), time to expiry(T), option type (Call or Put) \n",
    "* Write a simulation pricer to price spread option. This function takes following parameters\n",
    "    * Object of type SpreadOption\n",
    "    * current spot prices for the two stocks (S1, S2)\n",
    "    * volatility for two stocks (sigma1, sigma2)\n",
    "    * Interest rate (rf)\n",
    "    * Correlation between two stocks (rho)\n",
    "* Pay off function is Max((ST1 * M1 - ST2 * M2) -K, 0) for Call option and MAX of (K - (ST1*M1 - ST2*M2), 0) for Put option\n",
    "* Write a script to price following Spread Option under 10000 paths\n",
    "    * Spread option between Apple and Google\n",
    "    * Option type Call\n",
    "    * Multiplier 5, 1\n",
    "    * Strike 0\n",
    "    * T = 0.5 (Six months)\n",
    "    * Spot prices (Apple = 250, Google = 1250)\n",
    "    * Volatility (Apple 30%, Google 30%)\n",
    "    * Risk Free rate 3%\n",
    "    * Correlation 75%\n",
    "   \n",
    "* Hint: see function numpy.random.multivariate_normal to generate correlated normal random numbers"
   ]
  },
  {
   "cell_type": "code",
   "execution_count": 9,
   "metadata": {},
   "outputs": [],
   "source": [
    "# imports\n",
    "import numpy as np\n",
    "from scipy import optimize\n",
    "from scipy.stats import norm\n",
    "import math\n",
    "import matplotlib.pyplot as plt\n",
    "\n"
   ]
  },
  {
   "cell_type": "code",
   "execution_count": null,
   "metadata": {},
   "outputs": [],
   "source": []
  },
  {
   "cell_type": "code",
   "execution_count": null,
   "metadata": {},
   "outputs": [],
   "source": [
    "\n"
   ]
  },
  {
   "cell_type": "code",
   "execution_count": 16,
   "metadata": {},
   "outputs": [],
   "source": [
    "class SpreadOption:\n",
    "    def __init__(self, name1, name2, M1, M2, K, T, optiontype):\n",
    "        self.name1 = name1\n",
    "        self.name2 = name2\n",
    "        self.M1 = M1\n",
    "        self.M2 = M2\n",
    "        self.K = K\n",
    "        self.T = T\n",
    "        self.optiontype = optiontype\n",
    "        \n",
    "    def price(self, stock1spotprice, stock2spotprice, stock1volatility, stock2volatility, r ,correlation):\n",
    "        dt= (self.T/100)\n",
    "        stock1sqrtdt= stock1volatility*math.sqrt(self.T/100)\n",
    "        stock2sqrtdt=stock2volatility*math.sqrt(self.T/100)\n",
    "        stock1drift= (r-(0.5*stock1volatility*stock1volatility))*math.sqrt(self.T/100)\n",
    "        stock2drift= (r-(0.5*stock1volatility*stock2volatility))*math.sqrt(self.T/100)\n",
    "        stock1table = np.zeros([101, 1000])\n",
    "        stock2table = np.zeros([101, 1000])\n",
    "\n",
    "        for i in range(0,100):\n",
    "            for z in range(0,1000):\n",
    "                mean = (0,0)\n",
    "                cov = [[1.0, correlation],[correlation, 1.0]]\n",
    "                stock1table[0,:]=stock1spotprice\n",
    "                stock2table[0,:]=stock2spotprice\n",
    "                x,y = np.random.multivariate_normal(mean,cov,(10000)).T\n",
    "                stock1table[i+1,z] = stock1table[i,z]*np.exp(stock1drift+stock1sqrtdt*x[z])\n",
    "                stock2table[i+1,z] = stock2table[i,z]*np.exp(stock1drift+stock2sqrtdt*y[z])\n",
    "                \n",
    "        stock1change = stock1spotprice*np.exp(r*self.T)-np.mean(stock1table[-1,:])\n",
    "        stock2change = stock2spotprice*np.exp(r*self.T)-np.mean(stock2table[-1,:])\n",
    "        adjustedstock1 = list(map(lambda x: x + stock1change,stock1table[-1,:]))\n",
    "        adjustedstock2 = list(map(lambda x: x + stock1change,stock2table[-1,:]))\n",
    "\n",
    "        np.mean(adjustedstock1)\n",
    "        np.mean(adjustedstock2)\n",
    "\n",
    "        if self.optiontype == \"C\":\n",
    "            self.optiontype = 1\n",
    "            expectedpayoff = list(map(lambda x: max(self.optiontype*(np.mean(x)*self.M1 - np.mean(adjustedstock2)* self.M2) -self.K, 0),adjustedstock1))\n",
    "            expectedpayoffPV= np.mean(expectedpayoff)*np.exp(-r*self.T)\n",
    "            return(\"The PV of the option is \",expectedpayoffPV)\n",
    "        else:\n",
    "            self.optiontype = -1\n",
    "            expectedpayoff = list(map(lambda x: max(self.optiontype*(np.mean(x)*self.M1 - np.mean(adjustedstock2)* self.M2) -self.K, 0),adjustedstock1))\n",
    "\n",
    "            expectedpayoffPV= np.mean(expectedpayoff)*np.exp(-r*self.T)\n",
    "\n",
    "            return(\"The PV of the option is \",expectedpayoffPV)\n",
    "\n",
    "\n",
    "\n"
   ]
  },
  {
   "cell_type": "code",
   "execution_count": 17,
   "metadata": {},
   "outputs": [],
   "source": [
    "a1 = SpreadOption(\"Apple\", \"Google\",5,1,0, 0.5, \"C\" )"
   ]
  },
  {
   "cell_type": "code",
   "execution_count": 18,
   "metadata": {},
   "outputs": [
    {
     "data": {
      "text/plain": [
       "('The PV of the option is ', 144.21029462505786)"
      ]
     },
     "execution_count": 18,
     "metadata": {},
     "output_type": "execute_result"
    }
   ],
   "source": [
    "a1.price(250,1250, 0.3, 0.3, 0.03,0.75)"
   ]
  },
  {
   "cell_type": "code",
   "execution_count": null,
   "metadata": {},
   "outputs": [],
   "source": []
  },
  {
   "cell_type": "code",
   "execution_count": null,
   "metadata": {},
   "outputs": [],
   "source": []
  }
 ],
 "metadata": {
  "kernelspec": {
   "display_name": "Python 3",
   "language": "python",
   "name": "python3"
  },
  "language_info": {
   "codemirror_mode": {
    "name": "ipython",
    "version": 3
   },
   "file_extension": ".py",
   "mimetype": "text/x-python",
   "name": "python",
   "nbconvert_exporter": "python",
   "pygments_lexer": "ipython3",
   "version": "3.7.2"
  }
 },
 "nbformat": 4,
 "nbformat_minor": 2
}
